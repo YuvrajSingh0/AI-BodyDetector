{
 "cells": [
  {
   "cell_type": "markdown",
   "metadata": {},
   "source": [
    "# Imports"
   ]
  },
  {
   "cell_type": "code",
   "execution_count": 1,
   "metadata": {},
   "outputs": [
    {
     "output_type": "stream",
     "name": "stdout",
     "text": [
      "Processing c:\\users\\dipu\\appdata\\local\\pip\\cache\\wheels\\4d\\0d\\6a\\4258cb741835ea9ce7897652ae88272d3baf5cb1944c1984aa\\pyautogui-0.9.52-py3-none-any.whl\nProcessing c:\\users\\dipu\\appdata\\local\\pip\\cache\\wheels\\91\\28\\0d\\f4eb606d38276836237d6dc2abf094241e6db5682a126e0389\\pymsgbox-1.0.9-py3-none-any.whl\nProcessing c:\\users\\dipu\\appdata\\local\\pip\\cache\\wheels\\91\\e3\\04\\184bda98ec7f7d5f0ba1f372bcf7b3ba86325151ae1dd690fe\\pygetwindow-0.0.9-py3-none-any.whl\nProcessing c:\\users\\dipu\\appdata\\local\\pip\\cache\\wheels\\d1\\72\\fb\\35f403de66285df8ecca7049bcc61bfb57aba0f76d1f08f7eb\\mouseinfo-0.1.3-py3-none-any.whl\nProcessing c:\\users\\dipu\\appdata\\local\\pip\\cache\\wheels\\e7\\50\\20\\790fbd95739abfdf0348bef99d5cc0c7c2930a19a91f602ddc\\pytweening-1.0.3-py3-none-any.whl\nCollecting pyscreeze>=0.1.21\n  Using cached PyScreeze-0.1.27.tar.gz (25 kB)\n  Installing build dependencies: started\n  Installing build dependencies: finished with status 'done'\n  Getting requirements to build wheel: started\n  Getting requirements to build wheel: finished with status 'done'\n    Preparing wheel metadata: started\n    Preparing wheel metadata: finished with status 'done'\nProcessing c:\\users\\dipu\\appdata\\local\\pip\\cache\\wheels\\d1\\e4\\47\\c62f8291b16b6df7e89ac885881ff71f35ca04c6e384251de9\\pyrect-0.1.4-py2.py3-none-any.whl\nCollecting pyperclip\n  Using cached pyperclip-1.8.2.tar.gz (20 kB)\nRequirement already satisfied: Pillow>=6.2.1; python_version == \"3.8\" in c:\\users\\dipu\\anaconda3\\lib\\site-packages (from pyscreeze>=0.1.21->pyautogui) (8.2.0)\nBuilding wheels for collected packages: pyscreeze, pyperclip\n  Building wheel for pyscreeze (PEP 517): started\n  Building wheel for pyscreeze (PEP 517): finished with status 'done'\n  Created wheel for pyscreeze: filename=PyScreeze-0.1.27-py3-none-any.whl size=12864 sha256=97e34fb1e01d3377217af6fb7091cc0db530837fd3890a90da773d6309c21d7e\n  Stored in directory: c:\\users\\dipu\\appdata\\local\\pip\\cache\\wheels\\f7\\91\\eb\\c0fa176c095c77460a579ef339f24a377474b041e5543d1a00\n  Building wheel for pyperclip (setup.py): started\n  Building wheel for pyperclip (setup.py): finished with status 'done'\n  Created wheel for pyperclip: filename=pyperclip-1.8.2-py3-none-any.whl size=11112 sha256=462a8529dc8a4990778340bb302e868d36a0721080861d38c4cab2ae562a9e57\n  Stored in directory: c:\\users\\dipu\\appdata\\local\\pip\\cache\\wheels\\7f\\1a\\65\\84ff8c386bec21fca6d220ea1f5498a0367883a78dd5ba6122\nSuccessfully built pyscreeze pyperclip\nInstalling collected packages: pymsgbox, pyrect, pygetwindow, pyperclip, mouseinfo, PyTweening, pyscreeze, pyautogui\nSuccessfully installed PyTweening-1.0.3 mouseinfo-0.1.3 pyautogui-0.9.52 pygetwindow-0.0.9 pymsgbox-1.0.9 pyperclip-1.8.2 pyrect-0.1.4 pyscreeze-0.1.27\n"
     ]
    }
   ],
   "source": [
    "!pip install pyautogui"
   ]
  },
  {
   "cell_type": "code",
   "execution_count": 6,
   "metadata": {},
   "outputs": [],
   "source": [
    "import cv2\n",
    "import mediapipe as mp\n",
    "import pyautogui\n",
    "import numpy as np"
   ]
  },
  {
   "cell_type": "code",
   "execution_count": 7,
   "metadata": {},
   "outputs": [],
   "source": [
    "mp_drawing = mp.solutions.drawing_utils\n",
    "mp_holistic = mp.solutions.holistic"
   ]
  },
  {
   "cell_type": "markdown",
   "metadata": {},
   "source": [
    "# Initializing Camera and Frame And Detection"
   ]
  },
  {
   "cell_type": "code",
   "execution_count": 13,
   "metadata": {},
   "outputs": [],
   "source": [
    "with mp_holistic.Holistic(\n",
    "    min_detection_confidence=0.5,\n",
    "    min_tracking_confidence=0.5\n",
    ") as holistic:\n",
    "    while True:\n",
    "        screenshot = pyautogui.screenshot()\n",
    "        img = np.array(screenshot)\n",
    "        img = cv2.resize(img, (1080, 720))\n",
    "        # Detection\n",
    "        result = holistic.process(img)\n",
    "        \n",
    "        # Recoloring back\n",
    "        img = img[:, :, ::-1].copy()\n",
    "        # img = cv2.cvtColor(img, cv2.COLOR_RGB2BGR)\n",
    "        \n",
    "        # Drawing Landmarks\n",
    "        \"\"\"\n",
    "            To Draw we Have:\n",
    "                face_landmarks,\n",
    "                pose_landmarks,\n",
    "                left_hand_landmarks,\n",
    "                right_hand_landmarks\n",
    "        \"\"\"\n",
    "        \n",
    "        # Drawing Face landmarks\n",
    "        mp_drawing.draw_landmarks(\n",
    "            img,\n",
    "            result.face_landmarks,\n",
    "            mp_holistic.FACE_CONNECTIONS,\n",
    "            mp_drawing.DrawingSpec(\n",
    "                color = (0, 255, 0),\n",
    "                thickness = 1,\n",
    "                circle_radius = 1\n",
    "            ),\n",
    "            mp_drawing.DrawingSpec(\n",
    "                color = (0, 255, 0),\n",
    "                thickness = 1,\n",
    "                circle_radius = 1\n",
    "            )\n",
    "        )\n",
    "        \n",
    "        # Drawing Pose landmarks\n",
    "        mp_drawing.draw_landmarks(\n",
    "            img,\n",
    "            result.pose_landmarks,\n",
    "            mp_holistic.POSE_CONNECTIONS,\n",
    "            mp_drawing.DrawingSpec(\n",
    "                color = (0, 255, 0),\n",
    "                thickness = 2,\n",
    "                circle_radius = 1\n",
    "            ),\n",
    "            mp_drawing.DrawingSpec(\n",
    "                color = (0, 255, 0),\n",
    "                thickness = 2,\n",
    "                circle_radius = 1\n",
    "            )\n",
    "        )\n",
    "        \n",
    "        # Drawing Left Hand landmarks\n",
    "        mp_drawing.draw_landmarks(\n",
    "            img,\n",
    "            result.left_hand_landmarks,\n",
    "            mp_holistic.HAND_CONNECTIONS\n",
    "        )\n",
    "        \n",
    "        # Drawing Right Hand landmarks\n",
    "        mp_drawing.draw_landmarks(\n",
    "            img,\n",
    "            result.right_hand_landmarks,\n",
    "            mp_holistic.HAND_CONNECTIONS\n",
    "        )\n",
    "        \n",
    "        # Creating Frame Of Images\n",
    "        cv2.imshow(\"AI Full Body Detections\", img)\n",
    "        \n",
    "        # Press Escape (Esc) Button to Stop    \n",
    "        if cv2.waitKey(10) & 0xFF == 27:\n",
    "            break\n",
    "\n",
    "# cam.release()\n",
    "cv2.destroyAllWindows()"
   ]
  },
  {
   "cell_type": "code",
   "execution_count": 9,
   "metadata": {},
   "outputs": [],
   "source": [
    "# cam.release()\n",
    "cv2.destroyAllWindows()"
   ]
  },
  {
   "cell_type": "code",
   "execution_count": null,
   "metadata": {},
   "outputs": [],
   "source": []
  }
 ],
 "metadata": {
  "kernelspec": {
   "name": "python385jvsc74a57bd09eeee02f4b4269a49b72ae91b687a8d37d9b7d6e35cdda5ba311f520aa0f83fb",
   "display_name": "Python 3.8.5 64-bit ('base': conda)"
  },
  "language_info": {
   "codemirror_mode": {
    "name": "ipython",
    "version": 3
   },
   "file_extension": ".py",
   "mimetype": "text/x-python",
   "name": "python",
   "nbconvert_exporter": "python",
   "pygments_lexer": "ipython3",
   "version": "3.8.5"
  }
 },
 "nbformat": 4,
 "nbformat_minor": 4
}