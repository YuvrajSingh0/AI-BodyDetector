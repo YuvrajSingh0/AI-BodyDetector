{
 "cells": [
  {
   "cell_type": "markdown",
   "metadata": {},
   "source": [
    "# Imports"
   ]
  },
  {
   "cell_type": "code",
   "execution_count": 54,
   "metadata": {},
   "outputs": [
    {
     "name": "stdout",
     "output_type": "stream",
     "text": [
      "Requirement already satisfied: mediapipe in c:\\users\\dipu\\anaconda3\\lib\\site-packages (0.8.4.2)\n",
      "Requirement already satisfied: opencv-python in c:\\users\\dipu\\anaconda3\\lib\\site-packages (4.5.2.52)\n",
      "Requirement already satisfied: attrs>=19.1.0 in c:\\users\\dipu\\anaconda3\\lib\\site-packages (from mediapipe) (20.3.0)\n",
      "Requirement already satisfied: absl-py in c:\\users\\dipu\\anaconda3\\lib\\site-packages (from mediapipe) (0.12.0)\n",
      "Requirement already satisfied: protobuf>=3.11.4 in c:\\users\\dipu\\anaconda3\\lib\\site-packages (from mediapipe) (3.17.0)\n",
      "Requirement already satisfied: six in c:\\users\\dipu\\anaconda3\\lib\\site-packages (from mediapipe) (1.15.0)\n",
      "Requirement already satisfied: numpy in c:\\users\\dipu\\anaconda3\\lib\\site-packages (from mediapipe) (1.19.2)\n",
      "Requirement already satisfied: wheel in c:\\users\\dipu\\anaconda3\\lib\\site-packages (from mediapipe) (0.35.1)\n",
      "Requirement already satisfied: opencv-contrib-python in c:\\users\\dipu\\anaconda3\\lib\\site-packages (from mediapipe) (4.5.2.52)\n"
     ]
    }
   ],
   "source": [
    "!pip install mediapipe opencv-python"
   ]
  },
  {
   "cell_type": "code",
   "execution_count": 55,
   "metadata": {},
   "outputs": [],
   "source": [
    "import cv2\n",
    "import mediapipe as mp"
   ]
  },
  {
   "cell_type": "code",
   "execution_count": 56,
   "metadata": {},
   "outputs": [],
   "source": [
    "mp_drawing = mp.solutions.drawing_utils\n",
    "mp_holistic = mp.solutions.holistic"
   ]
  },
  {
   "cell_type": "markdown",
   "metadata": {},
   "source": [
    "# Initializing Camera and Frame And Detection"
   ]
  },
  {
   "cell_type": "code",
   "execution_count": null,
   "metadata": {},
   "outputs": [],
   "source": [
    "cam_device_id = 0\n",
    "\n",
    "cam = cv2.VideoCapture(cam_device_id)\n",
    "\n",
    "# Initiating Holistic Model\n",
    "with mp_holistic.Holistic(\n",
    "    min_detection_confidence=0.5,\n",
    "    min_tracking_confidence=0.5\n",
    ") as holistic:\n",
    "    while cam.isOpened():\n",
    "        ret, frame = cam.read()\n",
    "        \n",
    "        # Recoloring         \n",
    "        img = cv2.cvtColor(frame, cv2.COLOR_BGR2RGB)\n",
    "        \n",
    "        # Detection\n",
    "        result = holistic.process(img)\n",
    "        \n",
    "        # Recoloring back\n",
    "        img = cv2.cvtColor(img, cv2.COLOR_RGB2BGR)\n",
    "        \n",
    "        # Drawing Landmarks\n",
    "        \"\"\"\n",
    "            To Draw we Have:\n",
    "                face_landmarks,\n",
    "                pose_landmarks,\n",
    "                left_hand_landmarks,\n",
    "                right_hand_landmarks\n",
    "        \"\"\"\n",
    "        \n",
    "        # Drawing Face landmarks\n",
    "        mp_drawing.draw_landmarks(\n",
    "            img,\n",
    "            result.face_landmarks,\n",
    "            mp_holistic.FACE_CONNECTIONS,\n",
    "            mp_drawing.DrawingSpec(\n",
    "                color = (0, 255, 0),\n",
    "                thickness = 1,\n",
    "                circle_radius = 1\n",
    "            ),\n",
    "            mp_drawing.DrawingSpec(\n",
    "                color = (0, 255, 0),\n",
    "                thickness = 1,\n",
    "                circle_radius = 1\n",
    "            )\n",
    "        )\n",
    "        \n",
    "        # Drawing Pose landmarks\n",
    "        mp_drawing.draw_landmarks(\n",
    "            img,\n",
    "            result.pose_landmarks,\n",
    "            mp_holistic.POSE_CONNECTIONS,\n",
    "            mp_drawing.DrawingSpec(\n",
    "                color = (0, 255, 0),\n",
    "                thickness = 2,\n",
    "                circle_radius = 1\n",
    "            ),\n",
    "            mp_drawing.DrawingSpec(\n",
    "                color = (0, 255, 0),\n",
    "                thickness = 2,\n",
    "                circle_radius = 1\n",
    "            )\n",
    "        )\n",
    "        \n",
    "        # Drawing Left Hand landmarks\n",
    "        mp_drawing.draw_landmarks(\n",
    "            img,\n",
    "            result.left_hand_landmarks,\n",
    "            mp_holistic.HAND_CONNECTIONS\n",
    "        )\n",
    "        \n",
    "        # Drawing Right Hand landmarks\n",
    "        mp_drawing.draw_landmarks(\n",
    "            img,\n",
    "            result.right_hand_landmarks,\n",
    "            mp_holistic.HAND_CONNECTIONS\n",
    "        )\n",
    "        \n",
    "        # Creating Frame Of Images\n",
    "        cv2.imshow(\"AI Full Body Detections\", img)\n",
    "        \n",
    "        # Press Escape (Esc) Button to Stop    \n",
    "        if cv2.waitKey(10) & 0xFF == 27:\n",
    "            break\n",
    "\n",
    "cam.release()\n",
    "cv2.destroyAllWindows()"
   ]
  },
  {
   "cell_type": "code",
   "execution_count": 52,
   "metadata": {},
   "outputs": [],
   "source": [
    "cam.release()\n",
    "cv2.destroyAllWindows()"
   ]
  },
  {
   "cell_type": "code",
   "execution_count": null,
   "metadata": {},
   "outputs": [],
   "source": []
  }
 ],
 "metadata": {
  "kernelspec": {
   "display_name": "Python 3",
   "language": "python",
   "name": "python3"
  },
  "language_info": {
   "codemirror_mode": {
    "name": "ipython",
    "version": 3
   },
   "file_extension": ".py",
   "mimetype": "text/x-python",
   "name": "python",
   "nbconvert_exporter": "python",
   "pygments_lexer": "ipython3",
   "version": "3.8.5"
  }
 },
 "nbformat": 4,
 "nbformat_minor": 4
}
